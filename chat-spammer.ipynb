{
 "cells": [
  {
   "cell_type": "code",
   "execution_count": 2,
   "id": "79ae30a7",
   "metadata": {},
   "outputs": [
    {
     "name": "stdout",
     "output_type": "stream",
     "text": [
      "esc pressed liao\n",
      "stopping\n"
     ]
    }
   ],
   "source": [
    "from pynput import keyboard\n",
    "import pyautogui \n",
    "import time\n",
    "\n",
    "# Config\n",
    "start_key = \"f2\"\n",
    "stop_key = \"esc\"\n",
    "logging = False\n",
    "\n",
    "# Global vars\n",
    "stop_spamming = False\n",
    "start_spamming = False\n",
    "\n",
    "def on_key_press(key):\n",
    "    global stop_spamming\n",
    "    try:\n",
    "        temp = key.char # To trigger AttributeError\n",
    "        if (logging):\n",
    "            print('alphanumeric key {0} pressed'.format(key.char))\n",
    "    except AttributeError:\n",
    "        if (logging):\n",
    "            print('special key {0} pressed'.format(key))\n",
    "        if (key == keyboard.Key[stop_key]):\n",
    "            stop_spamming = True\n",
    "\n",
    "def on_key_release(key):\n",
    "    global start_spamming\n",
    "    if (logging):\n",
    "        print('{0} released'.format(key))\n",
    "    if key == keyboard.Key.esc:\n",
    "        # Stop listener\n",
    "        return False\n",
    "    if (key == keyboard.Key[start_key]):\n",
    "        start_spamming = True\n",
    "\n",
    "# Non-blocking listener\n",
    "listener = keyboard.Listener(\n",
    "    on_press=on_key_press,\n",
    "    on_release=on_key_release)\n",
    "\n",
    "listener.start()\n",
    "\n",
    "while(True):\n",
    "    if (stop_spamming or start_spamming):\n",
    "        break\n",
    "        \n",
    "file = open(\"beemovie.txt\", \"r\")\n",
    "\n",
    "for line in file:\n",
    "    if (stop_spamming):\n",
    "        print(\"stopping\")\n",
    "        break\n",
    "    pyautogui.write(line)\n",
    "    pyautogui.press(\"enter\")\n",
    "    time.sleep(1)"
   ]
  }
 ],
 "metadata": {
  "kernelspec": {
   "display_name": "Python [conda env:misc-env]",
   "language": "python",
   "name": "conda-env-misc-env-py"
  },
  "language_info": {
   "codemirror_mode": {
    "name": "ipython",
    "version": 3
   },
   "file_extension": ".py",
   "mimetype": "text/x-python",
   "name": "python",
   "nbconvert_exporter": "python",
   "pygments_lexer": "ipython3",
   "version": "3.7.4"
  }
 },
 "nbformat": 4,
 "nbformat_minor": 5
}
